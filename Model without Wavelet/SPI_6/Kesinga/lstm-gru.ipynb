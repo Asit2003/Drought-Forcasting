{
 "cells": [
  {
   "cell_type": "code",
   "execution_count": 1,
   "metadata": {
    "_uuid": "da0236e4b36ce514c1fec3fd72f236d1fa259131"
   },
   "outputs": [],
   "source": [
    "# Importing the libraries\n",
    "import numpy as np\n",
    "import matplotlib.pyplot as plt\n",
    "plt.style.use('fivethirtyeight')\n",
    "import pandas as pd\n",
    "from sklearn.preprocessing import MinMaxScaler\n",
    "from keras.models import Sequential\n",
    "from keras.layers import Dense, LSTM, Dropout, GRU, Bidirectional\n",
    "from keras.optimizers import SGD\n",
    "import math\n",
    "from sklearn.metrics import mean_squared_error"
   ]
  },
  {
   "cell_type": "code",
   "execution_count": 2,
   "metadata": {
    "_uuid": "b288a8e2caf6196daec9cd2bc4ca78fe50345845"
   },
   "outputs": [],
   "source": [
    "# Some functions to help out with\n",
    "def plot_predictions(test,predicted):\n",
    "    plt.plot(test, color='red',label='Real IBM Stock Price')\n",
    "    plt.plot(predicted, color='blue',label='Predicted IBM Stock Price')\n",
    "    plt.title('IBM Stock Price Prediction')\n",
    "    plt.xlabel('Time')\n",
    "    plt.ylabel('IBM Stock Price')\n",
    "    plt.legend()\n",
    "    plt.show()\n",
    "\n",
    "def return_rmse(test,predicted):\n",
    "    rmse = math.sqrt(mean_squared_error(test, predicted))\n",
    "    print(\"The root mean squared error is {}.\".format(rmse))"
   ]
  },
  {
   "cell_type": "code",
   "execution_count": 3,
   "metadata": {
    "_uuid": "4cf10cf27420eb383b93b15c0895139ea96c0ed3"
   },
   "outputs": [
    {
     "data": {
      "text/html": [
       "<div>\n",
       "<style scoped>\n",
       "    .dataframe tbody tr th:only-of-type {\n",
       "        vertical-align: middle;\n",
       "    }\n",
       "\n",
       "    .dataframe tbody tr th {\n",
       "        vertical-align: top;\n",
       "    }\n",
       "\n",
       "    .dataframe thead th {\n",
       "        text-align: right;\n",
       "    }\n",
       "</style>\n",
       "<table border=\"1\" class=\"dataframe\">\n",
       "  <thead>\n",
       "    <tr style=\"text-align: right;\">\n",
       "      <th></th>\n",
       "      <th>sl.no.</th>\n",
       "      <th>rainfall</th>\n",
       "      <th>spi_6</th>\n",
       "    </tr>\n",
       "  </thead>\n",
       "  <tbody>\n",
       "    <tr>\n",
       "      <th>0</th>\n",
       "      <td>1</td>\n",
       "      <td>31.64</td>\n",
       "      <td>-0.92</td>\n",
       "    </tr>\n",
       "    <tr>\n",
       "      <th>1</th>\n",
       "      <td>2</td>\n",
       "      <td>36.91</td>\n",
       "      <td>0.10</td>\n",
       "    </tr>\n",
       "    <tr>\n",
       "      <th>2</th>\n",
       "      <td>3</td>\n",
       "      <td>26.37</td>\n",
       "      <td>0.22</td>\n",
       "    </tr>\n",
       "    <tr>\n",
       "      <th>3</th>\n",
       "      <td>4</td>\n",
       "      <td>36.91</td>\n",
       "      <td>1.02</td>\n",
       "    </tr>\n",
       "    <tr>\n",
       "      <th>4</th>\n",
       "      <td>5</td>\n",
       "      <td>36.91</td>\n",
       "      <td>1.70</td>\n",
       "    </tr>\n",
       "    <tr>\n",
       "      <th>...</th>\n",
       "      <td>...</td>\n",
       "      <td>...</td>\n",
       "      <td>...</td>\n",
       "    </tr>\n",
       "    <tr>\n",
       "      <th>482</th>\n",
       "      <td>483</td>\n",
       "      <td>33.90</td>\n",
       "      <td>1.19</td>\n",
       "    </tr>\n",
       "    <tr>\n",
       "      <th>483</th>\n",
       "      <td>484</td>\n",
       "      <td>54.05</td>\n",
       "      <td>1.69</td>\n",
       "    </tr>\n",
       "    <tr>\n",
       "      <th>484</th>\n",
       "      <td>485</td>\n",
       "      <td>33.42</td>\n",
       "      <td>1.73</td>\n",
       "    </tr>\n",
       "    <tr>\n",
       "      <th>485</th>\n",
       "      <td>486</td>\n",
       "      <td>19.74</td>\n",
       "      <td>1.81</td>\n",
       "    </tr>\n",
       "    <tr>\n",
       "      <th>486</th>\n",
       "      <td>487</td>\n",
       "      <td>27.38</td>\n",
       "      <td>1.78</td>\n",
       "    </tr>\n",
       "  </tbody>\n",
       "</table>\n",
       "<p>487 rows × 3 columns</p>\n",
       "</div>"
      ],
      "text/plain": [
       "     sl.no.  rainfall  spi_6\n",
       "0         1     31.64  -0.92\n",
       "1         2     36.91   0.10\n",
       "2         3     26.37   0.22\n",
       "3         4     36.91   1.02\n",
       "4         5     36.91   1.70\n",
       "..      ...       ...    ...\n",
       "482     483     33.90   1.19\n",
       "483     484     54.05   1.69\n",
       "484     485     33.42   1.73\n",
       "485     486     19.74   1.81\n",
       "486     487     27.38   1.78\n",
       "\n",
       "[487 rows x 3 columns]"
      ]
     },
     "execution_count": 3,
     "metadata": {},
     "output_type": "execute_result"
    }
   ],
   "source": [
    "# First, we get the data\n",
    "dataset = pd.read_csv('spi_6.csv')\n",
    "dataset"
   ]
  },
  {
   "cell_type": "code",
   "execution_count": 4,
   "metadata": {
    "_uuid": "fb4c9db6d8a5bcf20ffad41747cfa5b6215ba220"
   },
   "outputs": [],
   "source": [
    "# Checking for missing values\n",
    "# training_set = dataset[:'360'].iloc[:,1:2].values\n",
    "# test_set = dataset['361':].iloc[:,1:2].values\n",
    "# Checking for missing values\n",
    "training_set = dataset.iloc[:361, 2:3].values\n",
    "test_set = dataset.iloc[361:, 2:3].values\n"
   ]
  },
  {
   "cell_type": "code",
   "execution_count": 6,
   "metadata": {
    "_uuid": "bf5a9463d58e73852d2b70be9611e8cf1f4166fd"
   },
   "outputs": [
    {
     "data": {
      "image/png": "[encoded data removed]",
      "text/plain": [
       "<Figure size 1600x400 with 1 Axes>"
      ]
     },
     "metadata": {},
     "output_type": "display_data"
    }
   ],
   "source": [
    "# We have chosen 'High' attribute for prices. Let's see what it looks like\n",
    "dataset[\"spi_6\"][:361].plot(figsize=(16,4),legend=True)\n",
    "dataset[\"spi_6\"][361:].plot(figsize=(16,4),legend=True)\n",
    "plt.legend(['Training set ','Test set '])\n",
    "plt.title('SPI')\n",
    "plt.show()"
   ]
  },
  {
   "cell_type": "code",
   "execution_count": 7,
   "metadata": {
    "_uuid": "bcc9c36165fc07d258bd5ea87874d2da17fa4a4d"
   },
   "outputs": [],
   "source": [
    "# Scaling the training set\n",
    "sc = MinMaxScaler(feature_range=(0,1))\n",
    "training_set_scaled = sc.fit_transform(training_set)"
   ]
  },
  {
   "cell_type": "code",
   "execution_count": 8,
   "metadata": {
    "_uuid": "fccfb866a2b4c702e0b2742f7c0289512d713d1b"
   },
   "outputs": [],
   "source": [
    "# Since LSTMs store long term memory state, we create a data structure with 60 timesteps and 1 output\n",
    "# So for each element of training set, we have 60 previous training set elements \n",
    "X_train = []\n",
    "y_train = []\n",
    "for i in range(60,361):\n",
    "    X_train.append(training_set_scaled[i-60:i,0])\n",
    "    y_train.append(training_set_scaled[i,0])\n",
    "X_train, y_train = np.array(X_train), np.array(y_train)"
   ]
  },
  {
   "cell_type": "code",
   "execution_count": 9,
   "metadata": {
    "_uuid": "637f699d3c4bde4b783de56ed4dd70a1bf59760d"
   },
   "outputs": [],
   "source": [
    "# Reshaping X_train for efficient modelling\n",
    "X_train = np.reshape(X_train, (X_train.shape[0],X_train.shape[1],1))"
   ]
  },
  {
   "cell_type": "code",
   "execution_count": null,
   "metadata": {
    "_uuid": "df20eb7e8062dae0a3aff2182aa440faddd0017d",
    "scrolled": true
   },
   "outputs": [
    {
     "name": "stdout",
     "output_type": "stream",
     "text": [
      "Epoch 1/500\n",
      "38/38 [==============================] - 46s 94ms/step - loss: 0.0510\n",
      "Epoch 2/500\n",
      "38/38 [==============================] - 4s 95ms/step - loss: 0.0434\n",
      "Epoch 3/500\n",
      "38/38 [==============================] - 4s 94ms/step - loss: 0.0401\n",
      "Epoch 4/500\n",
      "38/38 [==============================] - 3s 89ms/step - loss: 0.0376\n",
      "Epoch 5/500\n",
      "38/38 [==============================] - 4s 98ms/step - loss: 0.0407\n",
      "Epoch 6/500\n",
      "38/38 [==============================] - 3s 91ms/step - loss: 0.0353\n",
      "Epoch 7/500\n",
      "38/38 [==============================] - 4s 95ms/step - loss: 0.0364\n",
      "Epoch 8/500\n",
      "38/38 [==============================] - 4s 105ms/step - loss: 0.0350\n",
      "Epoch 9/500\n",
      "38/38 [==============================] - 4s 93ms/step - loss: 0.0352\n",
      "Epoch 10/500\n",
      "38/38 [==============================] - 4s 106ms/step - loss: 0.0359\n",
      "Epoch 11/500\n",
      "38/38 [==============================] - 4s 111ms/step - loss: 0.0367\n",
      "Epoch 12/500\n",
      "38/38 [==============================] - 4s 105ms/step - loss: 0.0354\n",
      "Epoch 13/500\n",
      "38/38 [==============================] - 4s 100ms/step - loss: 0.0357\n",
      "Epoch 14/500\n",
      "38/38 [==============================] - 4s 97ms/step - loss: 0.0337\n",
      "Epoch 15/500\n",
      "38/38 [==============================] - 4s 96ms/step - loss: 0.0357\n",
      "Epoch 16/500\n",
      "38/38 [==============================] - 4s 102ms/step - loss: 0.0344\n",
      "Epoch 17/500\n",
      "38/38 [==============================] - 3s 87ms/step - loss: 0.0359\n",
      "Epoch 18/500\n",
      "38/38 [==============================] - 4s 98ms/step - loss: 0.0349\n",
      "Epoch 19/500\n",
      "38/38 [==============================] - 4s 101ms/step - loss: 0.0323\n",
      "Epoch 20/500\n",
      "38/38 [==============================] - 4s 98ms/step - loss: 0.0346\n",
      "Epoch 21/500\n",
      "38/38 [==============================] - 3s 86ms/step - loss: 0.0342\n",
      "Epoch 22/500\n",
      "38/38 [==============================] - 4s 107ms/step - loss: 0.0323\n",
      "Epoch 23/500\n",
      "38/38 [==============================] - 4s 111ms/step - loss: 0.0331\n",
      "Epoch 24/500\n",
      "38/38 [==============================] - 5s 120ms/step - loss: 0.0326\n",
      "Epoch 25/500\n",
      "38/38 [==============================] - 4s 109ms/step - loss: 0.0322\n",
      "Epoch 26/500\n",
      "38/38 [==============================] - 4s 105ms/step - loss: 0.0337\n",
      "Epoch 27/500\n",
      "38/38 [==============================] - 4s 111ms/step - loss: 0.0319\n",
      "Epoch 28/500\n",
      "38/38 [==============================] - 4s 101ms/step - loss: 0.0324\n",
      "Epoch 29/500\n",
      "38/38 [==============================] - 4s 98ms/step - loss: 0.0344\n",
      "Epoch 30/500\n",
      "38/38 [==============================] - 5s 125ms/step - loss: 0.0335\n",
      "Epoch 31/500\n",
      "38/38 [==============================] - 5s 120ms/step - loss: 0.0314\n",
      "Epoch 32/500\n",
      "38/38 [==============================] - 4s 115ms/step - loss: 0.0320\n",
      "Epoch 33/500\n",
      "38/38 [==============================] - 5s 143ms/step - loss: 0.0321\n",
      "Epoch 34/500\n",
      "38/38 [==============================] - 6s 150ms/step - loss: 0.0324\n",
      "Epoch 35/500\n",
      "38/38 [==============================] - 6s 155ms/step - loss: 0.0319\n",
      "Epoch 36/500\n",
      "38/38 [==============================] - 6s 152ms/step - loss: 0.0323\n",
      "Epoch 37/500\n",
      "38/38 [==============================] - 6s 146ms/step - loss: 0.0329\n",
      "Epoch 38/500\n",
      "38/38 [==============================] - 4s 115ms/step - loss: 0.0328\n",
      "Epoch 39/500\n",
      "38/38 [==============================] - 4s 107ms/step - loss: 0.0325\n",
      "Epoch 40/500\n",
      "38/38 [==============================] - 4s 102ms/step - loss: 0.0325\n",
      "Epoch 41/500\n",
      "38/38 [==============================] - 5s 117ms/step - loss: 0.0316\n",
      "Epoch 42/500\n",
      "38/38 [==============================] - 4s 110ms/step - loss: 0.0319\n",
      "Epoch 43/500\n",
      "38/38 [==============================] - 4s 103ms/step - loss: 0.0319\n",
      "Epoch 44/500\n",
      "38/38 [==============================] - 6s 157ms/step - loss: 0.0324\n",
      "Epoch 45/500\n",
      "38/38 [==============================] - 6s 162ms/step - loss: 0.0316\n",
      "Epoch 46/500\n",
      "38/38 [==============================] - 5s 133ms/step - loss: 0.0323\n",
      "Epoch 47/500\n",
      "38/38 [==============================] - 5s 134ms/step - loss: 0.0323\n",
      "Epoch 48/500\n",
      "38/38 [==============================] - 6s 151ms/step - loss: 0.0328\n",
      "Epoch 49/500\n",
      "38/38 [==============================] - 5s 136ms/step - loss: 0.0328\n",
      "Epoch 50/500\n",
      "38/38 [==============================] - 6s 154ms/step - loss: 0.0322\n",
      "Epoch 51/500\n",
      "38/38 [==============================] - 7s 182ms/step - loss: 0.0336\n",
      "Epoch 52/500\n",
      "38/38 [==============================] - 7s 189ms/step - loss: 0.0331\n",
      "Epoch 53/500\n",
      "38/38 [==============================] - 6s 153ms/step - loss: 0.0319\n",
      "Epoch 54/500\n",
      "38/38 [==============================] - 7s 193ms/step - loss: 0.0316\n",
      "Epoch 55/500\n",
      "38/38 [==============================] - 7s 190ms/step - loss: 0.0316\n",
      "Epoch 56/500\n",
      "38/38 [==============================] - 6s 163ms/step - loss: 0.0325\n",
      "Epoch 57/500\n",
      "38/38 [==============================] - 4s 110ms/step - loss: 0.0320\n",
      "Epoch 58/500\n",
      "38/38 [==============================] - 4s 120ms/step - loss: 0.0335\n",
      "Epoch 59/500\n",
      "38/38 [==============================] - 4s 105ms/step - loss: 0.0320\n",
      "Epoch 60/500\n",
      "38/38 [==============================] - 4s 103ms/step - loss: 0.0309\n",
      "Epoch 61/500\n",
      "38/38 [==============================] - 4s 105ms/step - loss: 0.0319\n",
      "Epoch 62/500\n",
      "38/38 [==============================] - 4s 111ms/step - loss: 0.0314\n",
      "Epoch 63/500\n",
      "38/38 [==============================] - 4s 106ms/step - loss: 0.0307\n",
      "Epoch 64/500\n",
      "38/38 [==============================] - 4s 101ms/step - loss: 0.0316\n",
      "Epoch 65/500\n",
      "38/38 [==============================] - 4s 110ms/step - loss: 0.0316\n",
      "Epoch 66/500\n",
      "38/38 [==============================] - 4s 101ms/step - loss: 0.0308\n",
      "Epoch 67/500\n",
      "38/38 [==============================] - 4s 104ms/step - loss: 0.0309\n",
      "Epoch 68/500\n",
      "38/38 [==============================] - 3s 80ms/step - loss: 0.0317\n",
      "Epoch 69/500\n",
      "38/38 [==============================] - 3s 75ms/step - loss: 0.0314\n",
      "Epoch 70/500\n",
      "38/38 [==============================] - 3s 74ms/step - loss: 0.0314\n",
      "Epoch 71/500\n",
      "38/38 [==============================] - 3s 71ms/step - loss: 0.0316\n",
      "Epoch 72/500\n",
      "38/38 [==============================] - 3s 75ms/step - loss: 0.0312\n",
      "Epoch 73/500\n",
      "38/38 [==============================] - 3s 83ms/step - loss: 0.0316\n",
      "Epoch 74/500\n",
      "38/38 [==============================] - 3s 75ms/step - loss: 0.0300\n",
      "Epoch 75/500\n",
      "38/38 [==============================] - 3s 75ms/step - loss: 0.0314\n",
      "Epoch 76/500\n",
      "38/38 [==============================] - 3s 75ms/step - loss: 0.0304\n",
      "Epoch 77/500\n",
      "38/38 [==============================] - 3s 79ms/step - loss: 0.0311\n",
      "Epoch 78/500\n",
      "38/38 [==============================] - 3s 76ms/step - loss: 0.0306\n",
      "Epoch 79/500\n",
      "38/38 [==============================] - 3s 81ms/step - loss: 0.0306\n",
      "Epoch 80/500\n",
      "38/38 [==============================] - 3s 76ms/step - loss: 0.0308\n",
      "Epoch 81/500\n",
      "38/38 [==============================] - 3s 81ms/step - loss: 0.0303\n",
      "Epoch 82/500\n",
      "38/38 [==============================] - 3s 82ms/step - loss: 0.0301\n",
      "Epoch 83/500\n",
      "38/38 [==============================] - 3s 73ms/step - loss: 0.0291\n",
      "Epoch 84/500\n",
      "38/38 [==============================] - 3s 75ms/step - loss: 0.0280\n",
      "Epoch 85/500\n",
      "38/38 [==============================] - 3s 78ms/step - loss: 0.0257\n",
      "Epoch 86/500\n",
      "38/38 [==============================] - 3s 80ms/step - loss: 0.0259\n",
      "Epoch 87/500\n",
      "38/38 [==============================] - 3s 81ms/step - loss: 0.0251\n",
      "Epoch 88/500\n",
      "38/38 [==============================] - 3s 71ms/step - loss: 0.0227\n",
      "Epoch 89/500\n",
      "38/38 [==============================] - 3s 75ms/step - loss: 0.0245\n",
      "Epoch 90/500\n",
      "38/38 [==============================] - 3s 73ms/step - loss: 0.0231\n",
      "Epoch 91/500\n",
      "38/38 [==============================] - 3s 79ms/step - loss: 0.0221\n",
      "Epoch 92/500\n",
      "38/38 [==============================] - 3s 76ms/step - loss: 0.0221\n",
      "Epoch 93/500\n",
      "38/38 [==============================] - 3s 75ms/step - loss: 0.0230\n",
      "Epoch 94/500\n",
      "38/38 [==============================] - 3s 87ms/step - loss: 0.0226\n",
      "Epoch 95/500\n",
      "38/38 [==============================] - 3s 86ms/step - loss: 0.0222\n",
      "Epoch 96/500\n",
      "38/38 [==============================] - 3s 91ms/step - loss: 0.0212\n",
      "Epoch 97/500\n",
      "38/38 [==============================] - 3s 87ms/step - loss: 0.0217\n",
      "Epoch 98/500\n",
      "38/38 [==============================] - 4s 114ms/step - loss: 0.0202\n",
      "Epoch 99/500\n",
      "38/38 [==============================] - 4s 113ms/step - loss: 0.0209\n",
      "Epoch 100/500\n"
     ]
    },
    {
     "name": "stdout",
     "output_type": "stream",
     "text": [
      "38/38 [==============================] - 5s 124ms/step - loss: 0.0216\n",
      "Epoch 101/500\n",
      "38/38 [==============================] - 4s 116ms/step - loss: 0.0207\n",
      "Epoch 102/500\n",
      "38/38 [==============================] - 5s 121ms/step - loss: 0.0207\n",
      "Epoch 103/500\n",
      "38/38 [==============================] - 4s 107ms/step - loss: 0.0199\n",
      "Epoch 104/500\n",
      "38/38 [==============================] - 5s 122ms/step - loss: 0.0216\n",
      "Epoch 105/500\n",
      "38/38 [==============================] - 5s 129ms/step - loss: 0.0195\n",
      "Epoch 106/500\n",
      "38/38 [==============================] - 6s 151ms/step - loss: 0.0192\n",
      "Epoch 107/500\n",
      "38/38 [==============================] - 5s 119ms/step - loss: 0.0198\n",
      "Epoch 108/500\n",
      "38/38 [==============================] - 4s 109ms/step - loss: 0.0195\n",
      "Epoch 109/500\n",
      "38/38 [==============================] - 4s 111ms/step - loss: 0.0194\n",
      "Epoch 110/500\n",
      "38/38 [==============================] - 5s 137ms/step - loss: 0.0192\n",
      "Epoch 111/500\n",
      "38/38 [==============================] - 6s 153ms/step - loss: 0.0185\n",
      "Epoch 112/500\n",
      "38/38 [==============================] - 6s 146ms/step - loss: 0.0191\n",
      "Epoch 113/500\n",
      "38/38 [==============================] - 6s 144ms/step - loss: 0.0189\n",
      "Epoch 114/500\n",
      "38/38 [==============================] - 6s 150ms/step - loss: 0.0185\n",
      "Epoch 115/500\n",
      "38/38 [==============================] - 6s 149ms/step - loss: 0.0186\n",
      "Epoch 116/500\n",
      "38/38 [==============================] - 5s 137ms/step - loss: 0.0176\n",
      "Epoch 117/500\n",
      "38/38 [==============================] - 6s 159ms/step - loss: 0.0175\n",
      "Epoch 118/500\n",
      "38/38 [==============================] - 6s 144ms/step - loss: 0.0169\n",
      "Epoch 119/500\n",
      "38/38 [==============================] - 5s 133ms/step - loss: 0.0176\n",
      "Epoch 120/500\n",
      "38/38 [==============================] - 5s 141ms/step - loss: 0.0167\n",
      "Epoch 121/500\n",
      "38/38 [==============================] - 5s 142ms/step - loss: 0.0170\n",
      "Epoch 122/500\n",
      "38/38 [==============================] - 5s 141ms/step - loss: 0.0169\n",
      "Epoch 123/500\n",
      "38/38 [==============================] - 5s 139ms/step - loss: 0.0162\n",
      "Epoch 124/500\n",
      "38/38 [==============================] - 6s 151ms/step - loss: 0.0164\n",
      "Epoch 125/500\n",
      "26/38 [===================>..........] - ETA: 1s - loss: 0.0155"
     ]
    }
   ],
   "source": [
    "# The LSTM architecture\n",
    "regressor = Sequential()\n",
    "# First LSTM layer with Dropout regularisation\n",
    "regressor.add(LSTM(units=50, return_sequences=True, input_shape=(X_train.shape[1],1)))\n",
    "regressor.add(Dropout(0.2))\n",
    "# Second LSTM layer\n",
    "regressor.add(LSTM(units=50, return_sequences=True))\n",
    "regressor.add(Dropout(0.2))\n",
    "# Third LSTM layer\n",
    "regressor.add(LSTM(units=50, return_sequences=True))\n",
    "regressor.add(Dropout(0.2))\n",
    "# Fourth LSTM layer\n",
    "regressor.add(LSTM(units=50))\n",
    "regressor.add(Dropout(0.2))\n",
    "# The output layer\n",
    "regressor.add(Dense(units=1))\n",
    "\n",
    "# Compiling the RNN\n",
    "regressor.compile(optimizer='rmsprop',loss='mean_squared_error')\n",
    "# Fitting to the training set\n",
    "regressor.fit(X_train,y_train,epochs=500,batch_size=8)"
   ]
  },
  {
   "cell_type": "code",
   "execution_count": null,
   "metadata": {
    "_uuid": "326fa85615622feb484cc4c848edeec6f7133913"
   },
   "outputs": [],
   "source": [
    "# Now to get the test set ready in a similar way as the training set.\n",
    "# The following has been done so forst 60 entires of test set have 60 previous values which is impossible to get unless we take the whole \n",
    "# 'High' attribute data for processing\n",
    "dataset_total = pd.concat((dataset[\"spi_6\"][:361],dataset[\"spi_6\"][361:]),axis=0)\n",
    "inputs = dataset_total[len(dataset_total)-len(test_set) - 60:].values\n",
    "inputs = inputs.reshape(-1,1)\n",
    "inputs  = sc.transform(inputs)"
   ]
  },
  {
   "cell_type": "code",
   "execution_count": null,
   "metadata": {
    "_uuid": "435b8024814939ac4fbd372baa0cd8cfc78f80bc"
   },
   "outputs": [],
   "source": [
    "# Preparing X_test and predicting the prices\n",
    "X_test = []\n",
    "for i in range(60,186):\n",
    "    X_test.append(inputs[i-60:i,0])\n",
    "X_test = np.array(X_test)\n",
    "X_test = np.reshape(X_test, (X_test.shape[0],X_test.shape[1],1))\n",
    "predicted_stock_price = regressor.predict(X_test)\n",
    "predicted_stock_price = sc.inverse_transform(predicted_stock_price)"
   ]
  },
  {
   "cell_type": "code",
   "execution_count": null,
   "metadata": {
    "_uuid": "b774a8e79e53eac89694cafef6b11aa99226b95f",
    "scrolled": false
   },
   "outputs": [],
   "source": [
    "# Visualizing the results for LSTM\n",
    "plot_predictions(test_set,predicted_stock_price)"
   ]
  },
  {
   "cell_type": "code",
   "execution_count": null,
   "metadata": {
    "_uuid": "f6f6db0b6e1f17ac63c06ce49856873d98ba5f00"
   },
   "outputs": [],
   "source": [
    "# Evaluating our model\n",
    "return_rmse(test_set,predicted_stock_price)\n"
   ]
  },
  {
   "cell_type": "code",
   "execution_count": null,
   "metadata": {},
   "outputs": [],
   "source": [
    "import numpy as np\n",
    "from sklearn.metrics import mean_absolute_error, mean_squared_error, r2_score\n",
    "\n",
    "def calculate_evaluation_metrics(y_observed, y_predicted):\n",
    "     # Convert to NumPy arrays if they are lists\n",
    "    if isinstance(y_observed, list):\n",
    "        y_observed = np.array(y_observed)\n",
    "    if isinstance(y_predicted, list):\n",
    "        y_predicted = np.array(y_predicted)\n",
    "        \n",
    "    metrics = {}\n",
    "\n",
    "    # Calculate ME (Mean Error)\n",
    "    metrics['ME'] = np.mean(y_observed - y_predicted)\n",
    "\n",
    "    # Calculate MAE (Mean Absolute Error)\n",
    "    metrics['MAE'] = mean_absolute_error(y_observed, y_predicted)\n",
    "\n",
    "    # Calculate MSE (Mean Squared Error)\n",
    "    metrics['MSE'] = mean_squared_error(y_observed, y_predicted)\n",
    "\n",
    "    # Calculate RMSE (Root Mean Squared Error)\n",
    "    metrics['RMSE'] = np.sqrt(metrics['MSE'])\n",
    "\n",
    "    # Calculate NRMSE (Normalized Root Mean Squared Error)\n",
    "    metrics['NRMSE'] = metrics['RMSE'] / (np.max(y_observed) - np.min(y_observed))\n",
    "\n",
    "    # Calculate PBIAS (Percent Bias)\n",
    "    metrics['PBIAS'] = np.mean(100 * (y_observed - y_predicted) / np.mean(y_observed))\n",
    "\n",
    "    # Calculate RSR (Root Mean Square Ratio)\n",
    "    metrics['RSR'] = metrics['RMSE'] / np.std(y_observed)\n",
    "\n",
    "    # Calculate rSD (Ratio of the Standard Deviation)\n",
    "    metrics['rSD'] = np.std(y_observed - y_predicted) / np.std(y_observed)\n",
    "\n",
    "    # Calculate NSE (Nash-Sutcliffe Efficiency)\n",
    "    metrics['NSE'] = 1 - (np.sum((y_observed - y_predicted) ** 2) / np.sum((y_observed - np.mean(y_observed)) ** 2))\n",
    "\n",
    "    # Calculate mNSE (Modified Nash-Sutcliffe Efficiency)\n",
    "    metrics['mNSE'] = 1 - (np.sum((y_observed - y_predicted) ** 2) / np.sum((y_observed - np.mean(y_observed)) ** 2))\n",
    "\n",
    "    # Calculate rNSE (Relative Nash-Sutcliffe Efficiency)\n",
    "    metrics['rNSE'] = metrics['NSE'] / np.var(y_observed)\n",
    "\n",
    "    # Calculate d (Index of Agreement)\n",
    "    metrics['d'] = 1 - (np.sum((y_observed - y_predicted) ** 2) / np.sum((np.abs(y_predicted - np.mean(y_observed)) +\n",
    "                                                                       np.abs(y_observed - np.mean(y_observed))) ** 2))\n",
    "\n",
    "    # Calculate md (Modified d Index)\n",
    "    metrics['md'] = 1 - (np.sum((y_observed - y_predicted) ** 2) / np.sum((np.abs(y_predicted - np.mean(y_observed)) +\n",
    "                                                                         np.abs(y_observed - np.mean(y_observed))) ** 2))\n",
    "\n",
    "    # Calculate rd (Relative d Index)\n",
    "    metrics['rd'] = 1 - (np.sum((y_observed - y_predicted) ** 2) / np.sum((np.abs(y_predicted - np.mean(y_observed)) +\n",
    "                                                                         np.abs(y_observed - np.mean(y_observed))) ** 2))\n",
    "\n",
    "    # Calculate cp (Coefficient of Performance)\n",
    "    metrics['cp'] = 1 - (np.sum((y_observed - y_predicted) ** 2) / np.sum((np.abs(y_predicted - y_observed.mean()) +\n",
    "                                                                         np.abs(y_observed - y_observed.mean())) ** 2))\n",
    "\n",
    "    # Calculate r (Index of Agreement)\n",
    "    metrics['r'] = 1 - (np.sum((y_observed - y_predicted) ** 2) / np.sum((np.abs(y_predicted - y_observed.mean()) +\n",
    "                                                                        np.abs(y_observed - y_observed.mean())) ** 2))\n",
    "\n",
    "    # Calculate R2 (Coefficient of Determination)\n",
    "    metrics['R2'] = r2_score(y_observed, y_predicted)\n",
    "\n",
    "    return metrics\n"
   ]
  },
  {
   "cell_type": "code",
   "execution_count": null,
   "metadata": {},
   "outputs": [],
   "source": [
    "evaluation_metrics = calculate_evaluation_metrics(test_set,predicted_stock_price)\n",
    "print(evaluation_metrics)"
   ]
  },
  {
   "cell_type": "markdown",
   "metadata": {
    "_uuid": "a4cf704ab3cd091f63b7b9a1b9224a49f0913171"
   },
   "source": [
    "Truth be told. That's one awesome score. \n",
    "\n",
    "LSTM is not the only kind of unit that has taken the world of Deep Learning by a storm. We have **Gated Recurrent Units(GRU)**. It's not known, which is better: GRU or LSTM becuase they have comparable performances. GRUs are easier to train than LSTMs.\n",
    "\n",
    "## Gated Recurrent Units\n",
    "In simple words, the GRU unit does not have to use a memory unit to control the flow of information like the LSTM unit. It can directly makes use of the all hidden states without any control. GRUs have fewer parameters and thus may train a bit faster or need less data to generalize. But, with large data, the LSTMs with higher expressiveness may lead to better results.\n",
    "\n",
    "They are almost similar to LSTMs except that they have two gates: reset gate and update gate. Reset gate determines how to combine new input to previous memory and update gate determines how much of the previous state to keep. Update gate in GRU is what input gate and forget gate were in LSTM. We don't have the second non linearity in GRU before calculating the outpu, .neither they have the output gate.\n",
    "\n",
    "Source: [Quora](https://www.quora.com/Whats-the-difference-between-LSTM-and-GRU-Why-are-GRU-efficient-to-train)\n",
    "\n",
    "<img src=\"https://cdnpythonmachinelearning.azureedge.net/wp-content/uploads/2017/11/GRU.png?x31195\">"
   ]
  },
  {
   "cell_type": "code",
   "execution_count": null,
   "metadata": {
    "_uuid": "e9b616c5112d707d16cc4b277007e286cffd58f6"
   },
   "outputs": [],
   "source": [
    "# The GRU architecture\n",
    "regressorGRU = Sequential()\n",
    "# First GRU layer with Dropout regularisation\n",
    "regressorGRU.add(GRU(units=50, return_sequences=True, input_shape=(X_train.shape[1],1), activation='tanh'))\n",
    "regressorGRU.add(Dropout(0.2))\n",
    "# Second GRU layer\n",
    "regressorGRU.add(GRU(units=50, return_sequences=True, input_shape=(X_train.shape[1],1), activation='tanh'))\n",
    "regressorGRU.add(Dropout(0.2))\n",
    "# Third GRU layer\n",
    "regressorGRU.add(GRU(units=50, return_sequences=True, input_shape=(X_train.shape[1],1), activation='tanh'))\n",
    "regressorGRU.add(Dropout(0.2))\n",
    "# Fourth GRU layer\n",
    "regressorGRU.add(GRU(units=50, activation='tanh'))\n",
    "regressorGRU.add(Dropout(0.2))\n",
    "# The output layer\n",
    "regressorGRU.add(Dense(units=1))\n",
    "# Compiling the RNN\n",
    "regressorGRU.compile(optimizer=SGD(lr=0.01, decay=1e-7, momentum=0.9, nesterov=False),loss='mean_squared_error')\n",
    "# Fitting to the training set\n",
    "regressorGRU.fit(X_train,y_train,epochs=500,batch_size=8)"
   ]
  },
  {
   "cell_type": "markdown",
   "metadata": {
    "_kg_hide-input": false,
    "_uuid": "98628386f141545aa77d70f48478ac82bd9c1608"
   },
   "source": [
    "The current version version uses a dense GRU network with 100 units as opposed to the GRU network with 50 units in previous version"
   ]
  },
  {
   "cell_type": "code",
   "execution_count": null,
   "metadata": {
    "_uuid": "f20ca021ea3ce05f6c6a98db93775f1b2c9c022c"
   },
   "outputs": [],
   "source": [
    "# Preparing X_test and predicting the prices\n",
    "X_test = []\n",
    "for i in range(60,186):\n",
    "    X_test.append(inputs[i-60:i,0])\n",
    "X_test = np.array(X_test)\n",
    "X_test = np.reshape(X_test, (X_test.shape[0],X_test.shape[1],1))\n",
    "GRU_predicted_stock_price = regressorGRU.predict(X_test)\n",
    "GRU_predicted_stock_price = sc.inverse_transform(GRU_predicted_stock_price)"
   ]
  },
  {
   "cell_type": "code",
   "execution_count": null,
   "metadata": {
    "_uuid": "da8e9fa28510aa03e7dd06d5070d7b16e05ebb6e"
   },
   "outputs": [],
   "source": [
    "# Visualizing the results for GRU\n",
    "plot_predictions(test_set,GRU_predicted_stock_price)"
   ]
  },
  {
   "cell_type": "code",
   "execution_count": null,
   "metadata": {
    "_uuid": "23aec5ab1a717e3458c8d5cae68db0e7add091ae"
   },
   "outputs": [],
   "source": [
    "# Evaluating GRU\n",
    "return_rmse(test_set,GRU_predicted_stock_price)"
   ]
  },
  {
   "cell_type": "code",
   "execution_count": null,
   "metadata": {},
   "outputs": [],
   "source": [
    "evaluation_metrics = calculate_evaluation_metrics(test_set,GRU_predicted_stock_price)\n",
    "print(evaluation_metrics)"
   ]
  },
  {
   "cell_type": "code",
   "execution_count": null,
   "metadata": {},
   "outputs": [],
   "source": []
  }
 ],
 "metadata": {
  "kernelspec": {
   "display_name": "Python 3 (ipykernel)",
   "language": "python",
   "name": "python3"
  },
  "language_info": {
   "codemirror_mode": {
    "name": "ipython",
    "version": 3
   },
   "file_extension": ".py",
   "mimetype": "text/x-python",
   "name": "python",
   "nbconvert_exporter": "python",
   "pygments_lexer": "ipython3",
   "version": "3.10.9"
  }
 },
 "nbformat": 4,
 "nbformat_minor": 1
}
