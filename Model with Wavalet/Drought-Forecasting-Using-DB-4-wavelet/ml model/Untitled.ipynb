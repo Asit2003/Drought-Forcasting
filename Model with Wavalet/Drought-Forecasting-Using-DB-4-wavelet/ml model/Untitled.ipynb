{
 "cells": [
  {
   "cell_type": "code",
   "execution_count": null,
   "id": "03832d6d",
   "metadata": {},
   "outputs": [],
   "source": [
    "train_predictions = model.predict(train_X)\n",
    "print(train_predictions.shape)"
   ]
  },
  {
   "cell_type": "code",
   "execution_count": null,
   "id": "970c3c0a",
   "metadata": {},
   "outputs": [],
   "source": [
    "import pandas as pd\n",
    "pd.DataFrame(train_y).to_csv('actualTrainLSTM .csv', index=False, header=False)\n",
    "pd.DataFrame(train_predictions).to_csv('predictTrainLSTM .csv', index=False, header=False)\n",
    "pd.DataFrame(test_y).to_csv('actualTestLSTM.csv', index=False, header=False)\n",
    "pd.DataFrame(final_predictions).to_csv('predictTestLSTM.csv', index=False, header=False)"
   ]
  },
  {
   "cell_type": "code",
   "execution_count": null,
   "id": "dc4658f0",
   "metadata": {},
   "outputs": [],
   "source": []
  },
  {
   "cell_type": "code",
   "execution_count": null,
   "id": "9fc2c3f8",
   "metadata": {},
   "outputs": [],
   "source": [
    "train_predictions = model.predict(train_X)\n",
    "print(train_predictions.shape)"
   ]
  },
  {
   "cell_type": "code",
   "execution_count": null,
   "id": "1ae45089",
   "metadata": {},
   "outputs": [],
   "source": [
    "pd.DataFrame(train_y).to_csv('actualTrainGRU .csv', index=False, header=False)\n",
    "pd.DataFrame(train_predictions).to_csv('predictTrainGRU.csv', index=False, header=False)\n",
    "pd.DataFrame(test_y).to_csv('actualTestGRU.csv', index=False, header=False)\n",
    "pd.DataFrame(final_predictions).to_csv('predictTestGRU.csv', index=False, header=False)"
   ]
  },
  {
   "cell_type": "code",
   "execution_count": null,
   "id": "ee6b991f",
   "metadata": {},
   "outputs": [],
   "source": []
  }
 ],
 "metadata": {
  "kernelspec": {
   "display_name": "Python 3 (ipykernel)",
   "language": "python",
   "name": "python3"
  },
  "language_info": {
   "codemirror_mode": {
    "name": "ipython",
    "version": 3
   },
   "file_extension": ".py",
   "mimetype": "text/x-python",
   "name": "python",
   "nbconvert_exporter": "python",
   "pygments_lexer": "ipython3",
   "version": "3.9.13"
  }
 },
 "nbformat": 4,
 "nbformat_minor": 5
}
