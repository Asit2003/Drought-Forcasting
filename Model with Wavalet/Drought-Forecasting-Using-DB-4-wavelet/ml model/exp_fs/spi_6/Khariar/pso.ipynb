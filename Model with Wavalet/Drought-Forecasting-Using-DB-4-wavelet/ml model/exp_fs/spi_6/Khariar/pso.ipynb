{
 "cells": [
  {
   "cell_type": "code",
   "execution_count": 1,
   "id": "5041efcf",
   "metadata": {},
   "outputs": [],
   "source": [
    "from sklearn.linear_model import LogisticRegression\n",
    "from sklearn.linear_model import LinearRegression\n",
    "from sklearn.model_selection import train_test_split\n",
    "from sklearn import preprocessing\n",
    "preprocessing.LabelEncoder()\n",
    "import random\n",
    "import numpy as np\n",
    "import warnings\n",
    "warnings.filterwarnings(\"ignore\")"
   ]
  },
  {
   "cell_type": "code",
   "execution_count": 2,
   "id": "1d09aa1f",
   "metadata": {},
   "outputs": [],
   "source": [
    "import pandas as pd\n",
    "pd.set_option(\"display.max_columns\", None)"
   ]
  },
  {
   "cell_type": "code",
   "execution_count": 3,
   "id": "aed812e3",
   "metadata": {},
   "outputs": [
    {
     "data": {
      "text/html": [
       "<div>\n",
       "<style scoped>\n",
       "    .dataframe tbody tr th:only-of-type {\n",
       "        vertical-align: middle;\n",
       "    }\n",
       "\n",
       "    .dataframe tbody tr th {\n",
       "        vertical-align: top;\n",
       "    }\n",
       "\n",
       "    .dataframe thead th {\n",
       "        text-align: right;\n",
       "    }\n",
       "</style>\n",
       "<table border=\"1\" class=\"dataframe\">\n",
       "  <thead>\n",
       "    <tr style=\"text-align: right;\">\n",
       "      <th></th>\n",
       "      <th>Original Signal</th>\n",
       "      <th>Approximation</th>\n",
       "      <th>D 1</th>\n",
       "      <th>D 2</th>\n",
       "      <th>D 3</th>\n",
       "      <th>D 4</th>\n",
       "      <th>D 5</th>\n",
       "      <th>D 6</th>\n",
       "    </tr>\n",
       "  </thead>\n",
       "  <tbody>\n",
       "    <tr>\n",
       "      <th>0</th>\n",
       "      <td>0.14</td>\n",
       "      <td>-0.08</td>\n",
       "      <td>0.09</td>\n",
       "      <td>0.29</td>\n",
       "      <td>-1.22</td>\n",
       "      <td>-0.10</td>\n",
       "      <td>-0.02</td>\n",
       "      <td>0.11</td>\n",
       "    </tr>\n",
       "    <tr>\n",
       "      <th>1</th>\n",
       "      <td>0.55</td>\n",
       "      <td>-0.07</td>\n",
       "      <td>-0.29</td>\n",
       "      <td>0.70</td>\n",
       "      <td>-1.11</td>\n",
       "      <td>-0.23</td>\n",
       "      <td>0.03</td>\n",
       "      <td>0.11</td>\n",
       "    </tr>\n",
       "    <tr>\n",
       "      <th>2</th>\n",
       "      <td>1.02</td>\n",
       "      <td>-0.06</td>\n",
       "      <td>0.17</td>\n",
       "      <td>0.60</td>\n",
       "      <td>-0.71</td>\n",
       "      <td>-0.32</td>\n",
       "      <td>0.10</td>\n",
       "      <td>0.11</td>\n",
       "    </tr>\n",
       "    <tr>\n",
       "      <th>3</th>\n",
       "      <td>1.31</td>\n",
       "      <td>-0.06</td>\n",
       "      <td>0.16</td>\n",
       "      <td>0.26</td>\n",
       "      <td>-0.16</td>\n",
       "      <td>-0.34</td>\n",
       "      <td>0.18</td>\n",
       "      <td>0.11</td>\n",
       "    </tr>\n",
       "    <tr>\n",
       "      <th>4</th>\n",
       "      <td>1.31</td>\n",
       "      <td>-0.06</td>\n",
       "      <td>-0.01</td>\n",
       "      <td>-0.04</td>\n",
       "      <td>0.38</td>\n",
       "      <td>-0.27</td>\n",
       "      <td>0.25</td>\n",
       "      <td>0.12</td>\n",
       "    </tr>\n",
       "  </tbody>\n",
       "</table>\n",
       "</div>"
      ],
      "text/plain": [
       "   Original Signal  Approximation   D 1   D 2   D 3   D 4   D 5   D 6\n",
       "0             0.14          -0.08  0.09  0.29 -1.22 -0.10 -0.02  0.11\n",
       "1             0.55          -0.07 -0.29  0.70 -1.11 -0.23  0.03  0.11\n",
       "2             1.02          -0.06  0.17  0.60 -0.71 -0.32  0.10  0.11\n",
       "3             1.31          -0.06  0.16  0.26 -0.16 -0.34  0.18  0.11\n",
       "4             1.31          -0.06 -0.01 -0.04  0.38 -0.27  0.25  0.12"
      ]
     },
     "execution_count": 3,
     "metadata": {},
     "output_type": "execute_result"
    }
   ],
   "source": [
    "'''Loading xlsx file and droping first row '''\n",
    "df = pd.read_csv(\"wavelet_coefficients_db4.csv\", header=[0])\n",
    "df.head()"
   ]
  },
  {
   "cell_type": "code",
   "execution_count": 4,
   "id": "a9b98552",
   "metadata": {},
   "outputs": [
    {
     "data": {
      "text/plain": [
       "(487, 8)"
      ]
     },
     "execution_count": 4,
     "metadata": {},
     "output_type": "execute_result"
    }
   ],
   "source": [
    "df.shape"
   ]
  },
  {
   "cell_type": "code",
   "execution_count": 5,
   "id": "a3f3eb02",
   "metadata": {},
   "outputs": [
    {
     "name": "stdout",
     "output_type": "stream",
     "text": [
      "<class 'pandas.core.series.Series'>\n"
     ]
    }
   ],
   "source": [
    "print(type(df.isnull().sum()))"
   ]
  },
  {
   "cell_type": "code",
   "execution_count": 6,
   "id": "f905e375",
   "metadata": {},
   "outputs": [],
   "source": [
    "'''checking columns with NAN values'''\n",
    "for i,(j,k) in  enumerate(df.isnull().sum().iteritems()):\n",
    "    if k:\n",
    "        print(i,j,k)"
   ]
  },
  {
   "cell_type": "code",
   "execution_count": 7,
   "id": "585dd0df",
   "metadata": {},
   "outputs": [
    {
     "data": {
      "text/plain": [
       "0"
      ]
     },
     "execution_count": 7,
     "metadata": {},
     "output_type": "execute_result"
    }
   ],
   "source": [
    "df.isnull().sum().sum()"
   ]
  },
  {
   "cell_type": "code",
   "execution_count": 8,
   "id": "8e20f9ce",
   "metadata": {},
   "outputs": [
    {
     "data": {
      "text/plain": [
       "(487, 8)"
      ]
     },
     "execution_count": 8,
     "metadata": {},
     "output_type": "execute_result"
    }
   ],
   "source": [
    "df.shape"
   ]
  },
  {
   "cell_type": "code",
   "execution_count": 9,
   "id": "429a27c8",
   "metadata": {},
   "outputs": [],
   "source": [
    "y= df['Original Signal']\n",
    "y=y.astype('int')\n"
   ]
  },
  {
   "cell_type": "code",
   "execution_count": 10,
   "id": "44db19aa",
   "metadata": {},
   "outputs": [],
   "source": [
    "def calculate_accuracy(x):\n",
    "    X=df[x]\n",
    "    X_train, X_test, y_train, y_test = train_test_split(X, y, test_size= 0.33, random_state=30)\n",
    "    lgt_R = LogisticRegression(random_state = 101, solver='lbfgs', multi_class='auto')\n",
    "    lgt_R.fit(X_train, y_train)\n",
    "    accuracy=lgt_R.score(X_test,y_test)\n",
    "    print('Accuracy:',accuracy)\n",
    "    return accuracy"
   ]
  },
  {
   "cell_type": "code",
   "execution_count": 11,
   "id": "1dbbce9d",
   "metadata": {},
   "outputs": [],
   "source": [
    "# from sklearn.model_selection import train_test_split\n",
    "# from sklearn.ensemble import RandomForestClassifier\n",
    "\n",
    "# def calculate_accuracy(x):\n",
    "#     X = df[x]\n",
    "#     X_train, X_test, y_train, y_test = train_test_split(X, y, test_size=0.33, random_state=30)\n",
    "#     rf = RandomForestClassifier(random_state=101)\n",
    "#     rf.fit(X_train, y_train)\n",
    "#     accuracy = rf.score(X_test, y_test)\n",
    "#     print('Accuracy:', accuracy)\n",
    "#     return accuracy\n"
   ]
  },
  {
   "cell_type": "code",
   "execution_count": 13,
   "id": "b3819ea1",
   "metadata": {},
   "outputs": [],
   "source": [
    "columnsName=df.drop(labels= 'Original Signal', axis= 1).columns.values.tolist()"
   ]
  },
  {
   "cell_type": "code",
   "execution_count": 14,
   "id": "dea907d9",
   "metadata": {},
   "outputs": [
    {
     "data": {
      "text/plain": [
       "['Approximation', 'D 1', 'D 2', 'D 3', 'D 4', 'D 5', 'D 6']"
      ]
     },
     "execution_count": 14,
     "metadata": {},
     "output_type": "execute_result"
    }
   ],
   "source": [
    "columnsName"
   ]
  },
  {
   "cell_type": "code",
   "execution_count": 15,
   "id": "df7ecf2d",
   "metadata": {},
   "outputs": [],
   "source": [
    "columnsName1=[0,1]\n",
    "chromosomes=[]\n",
    "for i in range(5):\n",
    "    chro1=[]\n",
    "    for i in range(7):\n",
    "        item = random.choice(tuple(columnsName1))\n",
    "        chro1.append(item)\n",
    "    chromosomes.append(chro1)"
   ]
  },
  {
   "cell_type": "code",
   "execution_count": 16,
   "id": "16fbc89d",
   "metadata": {},
   "outputs": [],
   "source": [
    "def data(chromosomes1):\n",
    "    chromosomes2=[]\n",
    "    for i in range(len(chromosomes1)):\n",
    "        if chromosomes1[i]!=1:\n",
    "                chromosomes2.append(columnsName[i])\n",
    "    return chromosomes2"
   ]
  },
  {
   "cell_type": "code",
   "execution_count": 17,
   "id": "1f8a78ad",
   "metadata": {},
   "outputs": [
    {
     "name": "stdout",
     "output_type": "stream",
     "text": [
      "Accuracy: 0.6956521739130435\n",
      "Accuracy: 0.6149068322981367\n",
      "Accuracy: 0.6149068322981367\n",
      "Accuracy: 0.639751552795031\n",
      "Accuracy: 0.6583850931677019\n"
     ]
    }
   ],
   "source": [
    "pb=[]\n",
    "def checkpersonalnest():\n",
    "    for i in range(len(chromosomes)):\n",
    "         pb.append(calculate_accuracy(data(chromosomes[i])))\n",
    "checkpersonalnest()"
   ]
  },
  {
   "cell_type": "code",
   "execution_count": 18,
   "id": "62f0717a",
   "metadata": {},
   "outputs": [],
   "source": [
    "def checkvelocity(globalbest):\n",
    "    velocity=[]\n",
    "    for j in range(len(chromosomes)):\n",
    "        velocity.append(list(0+1*(np.random.random(1)[0])*(np.array(chromosomes[j])-np.array(chromosomes[j]))+1*(np.random.random(1)[0])*(np.array(globalbest)-np.array(chromosomes[j]))))\n",
    "    #print(velocity)\n",
    "    return velocity"
   ]
  },
  {
   "cell_type": "code",
   "execution_count": 19,
   "id": "9a3f59d5",
   "metadata": {},
   "outputs": [],
   "source": [
    "def addingchromosomes(velocity):\n",
    "    chromosomes2=[]\n",
    "    for i in range(len(velocity)):\n",
    "        nextchromo=[]\n",
    "        for j in range(len(velocity[i])):\n",
    "            nextchromo.append(chromosomes[i][j]+velocity[i][j])\n",
    "        chromosomes2.append(nextchromo)\n",
    "    return chromosomes2"
   ]
  },
  {
   "cell_type": "code",
   "execution_count": 20,
   "id": "031e9868",
   "metadata": {},
   "outputs": [],
   "source": [
    "def normalize(chromosomes2):\n",
    "    for l in range(len(chromosomes2)):\n",
    "        for m in range(len(chromosomes2[l])):\n",
    "            if chromosomes2[l][m]>0.5:\n",
    "                chromosomes2[l][m]=1\n",
    "            else:\n",
    "                chromosomes2[l][m]=0\n",
    "    return chromosomes2"
   ]
  },
  {
   "cell_type": "code",
   "execution_count": 21,
   "id": "f2d9f377",
   "metadata": {},
   "outputs": [],
   "source": [
    "def checkpd(chromosomes2):\n",
    "    personal=[]\n",
    "    for i in range(len(chromosomes2)):\n",
    "        personal.append(calculate_accuracy(data(chromosomes2[i])))\n",
    "    for j in range(len(personal)):\n",
    "        if(personal[j]>pb[j]):\n",
    "            chromosomes[j]=chromosomes2[j]\n",
    "            pb[j]=personal[j]\n",
    "    return personal"
   ]
  },
  {
   "cell_type": "code",
   "execution_count": 22,
   "id": "ff6d91a3",
   "metadata": {},
   "outputs": [
    {
     "name": "stdout",
     "output_type": "stream",
     "text": [
      "Accuracy: 0.6956521739130435\n",
      "Accuracy: 0.6149068322981367\n",
      "Accuracy: 0.6149068322981367\n",
      "Accuracy: 0.6956521739130435\n",
      "Accuracy: 0.6956521739130435\n",
      "Accuracy: 0.6956521739130435\n",
      "Accuracy: 0.6956521739130435\n",
      "Accuracy: 0.6956521739130435\n",
      "Accuracy: 0.6956521739130435\n",
      "Accuracy: 0.6956521739130435\n",
      "Accuracy: 0.6956521739130435\n",
      "Accuracy: 0.6956521739130435\n",
      "Accuracy: 0.6956521739130435\n",
      "Accuracy: 0.6956521739130435\n",
      "Accuracy: 0.6956521739130435\n",
      "Accuracy: 0.6956521739130435\n",
      "Accuracy: 0.6956521739130435\n",
      "Accuracy: 0.6956521739130435\n",
      "Accuracy: 0.6956521739130435\n",
      "Accuracy: 0.6956521739130435\n",
      "Accuracy: 0.6956521739130435\n",
      "Accuracy: 0.6956521739130435\n",
      "Accuracy: 0.6956521739130435\n",
      "Accuracy: 0.6956521739130435\n",
      "Accuracy: 0.6956521739130435\n",
      "Accuracy: 0.6956521739130435\n",
      "Accuracy: 0.6956521739130435\n",
      "Accuracy: 0.6956521739130435\n",
      "Accuracy: 0.6956521739130435\n",
      "Accuracy: 0.6956521739130435\n",
      "Accuracy: 0.6956521739130435\n",
      "Accuracy: 0.6956521739130435\n",
      "Accuracy: 0.6956521739130435\n",
      "Accuracy: 0.6956521739130435\n",
      "Accuracy: 0.6956521739130435\n",
      "Accuracy: 0.6956521739130435\n",
      "Accuracy: 0.6956521739130435\n",
      "Accuracy: 0.6956521739130435\n",
      "Accuracy: 0.6956521739130435\n",
      "Accuracy: 0.6956521739130435\n",
      "Accuracy: 0.6956521739130435\n",
      "Accuracy: 0.6956521739130435\n",
      "Accuracy: 0.6956521739130435\n",
      "Accuracy: 0.6956521739130435\n",
      "Accuracy: 0.6956521739130435\n",
      "Accuracy: 0.6956521739130435\n",
      "Accuracy: 0.6956521739130435\n",
      "Accuracy: 0.6956521739130435\n",
      "Accuracy: 0.6956521739130435\n",
      "Accuracy: 0.6956521739130435\n"
     ]
    }
   ],
   "source": [
    "max(pb)\n",
    "ind = pb.index(max(pb))\n",
    "globalbest=chromosomes[ind]\n",
    "for i in range(10):\n",
    "    chromosomes2=[]\n",
    "    personal=[]\n",
    "    velocity=checkvelocity(globalbest)\n",
    "    chromosomes2=addingchromosomes(velocity)\n",
    "    chromosomes2=normalize(chromosomes2)\n",
    "    personal=checkpd(chromosomes2)\n",
    "    globalbest=[]\n",
    "    max(pb)\n",
    "    ind = pb.index(max(pb))\n",
    "    globalbest=chromosomes[ind]\n",
    "                \n",
    "    "
   ]
  },
  {
   "cell_type": "code",
   "execution_count": 23,
   "id": "afa1f94e",
   "metadata": {},
   "outputs": [
    {
     "data": {
      "text/plain": [
       "0.6956521739130435"
      ]
     },
     "execution_count": 23,
     "metadata": {},
     "output_type": "execute_result"
    }
   ],
   "source": [
    "max(pb)"
   ]
  },
  {
   "cell_type": "code",
   "execution_count": 24,
   "id": "4edede08",
   "metadata": {},
   "outputs": [],
   "source": [
    "ind = pb.index(max(pb))\n",
    "globalbest=chromosomes[ind]"
   ]
  },
  {
   "cell_type": "code",
   "execution_count": 25,
   "id": "577c6eac",
   "metadata": {},
   "outputs": [
    {
     "name": "stdout",
     "output_type": "stream",
     "text": [
      "['Approximation', 'D 1', 'D 2', 'D 3', 'D 4']\n"
     ]
    }
   ],
   "source": [
    "print(data(globalbest))"
   ]
  },
  {
   "cell_type": "code",
   "execution_count": null,
   "id": "76234f50",
   "metadata": {},
   "outputs": [],
   "source": []
  }
 ],
 "metadata": {
  "kernelspec": {
   "display_name": "Python 3 (ipykernel)",
   "language": "python",
   "name": "python3"
  },
  "language_info": {
   "codemirror_mode": {
    "name": "ipython",
    "version": 3
   },
   "file_extension": ".py",
   "mimetype": "text/x-python",
   "name": "python",
   "nbconvert_exporter": "python",
   "pygments_lexer": "ipython3",
   "version": "3.9.13"
  }
 },
 "nbformat": 4,
 "nbformat_minor": 5
}
