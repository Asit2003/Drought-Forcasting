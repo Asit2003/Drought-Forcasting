{
 "cells": [
  {
   "cell_type": "markdown",
   "metadata": {},
   "source": [
    "Standardized Precipitation Index (SPI)\n",
    "---\n",
    "- used to characterize meteorological drought on a range of timescales. On short timescales, the SPI is closely related to soil moisture, while at longer timescales, the SPI can be related to groundwater and reservoir storage. The SPI can be compared across regions with markedly different climates. It quantifies observed precipitation as a standardized departure from a selected probability distribution function that models the raw precipitation data. The raw precipitation data are typically fitted to a gamma or a Pearson Type III distribution, and then transformed to a normal distribution.\n",
    "\n",
    "- Concerns have been raised about the utility of the SPI as a measure of changes in drought associated with climate change, as it does not deal with changes in evapotranspiration.\n",
    "\n",
    "\n",
    "useful link: https://climatedataguide.ucar.edu/climate-data/standardized-precipitation-index-spi"
   ]
  },
  {
   "cell_type": "markdown",
   "metadata": {},
   "source": [
    "Import Packages\n",
    "---\n",
    "Github:  https://github.com/jeffjay88/Climate_Indices"
   ]
  },
  {
   "cell_type": "code",
   "execution_count": 1,
   "metadata": {},
   "outputs": [],
   "source": [
    "import pandas as pd\n",
    "import numpy as np\n",
    "from scipy import stats as st\n",
    "import matplotlib.pyplot as plt\n",
    "import matplotlib.dates as mdates"
   ]
  },
  {
   "cell_type": "code",
   "execution_count": 2,
   "metadata": {},
   "outputs": [
    {
     "data": {
      "text/html": [
       "<div>\n",
       "<style scoped>\n",
       "    .dataframe tbody tr th:only-of-type {\n",
       "        vertical-align: middle;\n",
       "    }\n",
       "\n",
       "    .dataframe tbody tr th {\n",
       "        vertical-align: top;\n",
       "    }\n",
       "\n",
       "    .dataframe thead th {\n",
       "        text-align: right;\n",
       "    }\n",
       "</style>\n",
       "<table border=\"1\" class=\"dataframe\">\n",
       "  <thead>\n",
       "    <tr style=\"text-align: right;\">\n",
       "      <th></th>\n",
       "      <th>rainfall</th>\n",
       "    </tr>\n",
       "  </thead>\n",
       "  <tbody>\n",
       "    <tr>\n",
       "      <th>0</th>\n",
       "      <td>36.91</td>\n",
       "    </tr>\n",
       "    <tr>\n",
       "      <th>1</th>\n",
       "      <td>5.27</td>\n",
       "    </tr>\n",
       "    <tr>\n",
       "      <th>2</th>\n",
       "      <td>26.37</td>\n",
       "    </tr>\n",
       "    <tr>\n",
       "      <th>3</th>\n",
       "      <td>26.37</td>\n",
       "    </tr>\n",
       "    <tr>\n",
       "      <th>4</th>\n",
       "      <td>116.02</td>\n",
       "    </tr>\n",
       "    <tr>\n",
       "      <th>...</th>\n",
       "      <td>...</td>\n",
       "    </tr>\n",
       "    <tr>\n",
       "      <th>487</th>\n",
       "      <td>200.22</td>\n",
       "    </tr>\n",
       "    <tr>\n",
       "      <th>488</th>\n",
       "      <td>330.78</td>\n",
       "    </tr>\n",
       "    <tr>\n",
       "      <th>489</th>\n",
       "      <td>21.12</td>\n",
       "    </tr>\n",
       "    <tr>\n",
       "      <th>490</th>\n",
       "      <td>35.56</td>\n",
       "    </tr>\n",
       "    <tr>\n",
       "      <th>491</th>\n",
       "      <td>68.99</td>\n",
       "    </tr>\n",
       "  </tbody>\n",
       "</table>\n",
       "<p>492 rows × 1 columns</p>\n",
       "</div>"
      ],
      "text/plain": [
       "     rainfall\n",
       "0       36.91\n",
       "1        5.27\n",
       "2       26.37\n",
       "3       26.37\n",
       "4      116.02\n",
       "..        ...\n",
       "487    200.22\n",
       "488    330.78\n",
       "489     21.12\n",
       "490     35.56\n",
       "491     68.99\n",
       "\n",
       "[492 rows x 1 columns]"
      ]
     },
     "execution_count": 2,
     "metadata": {},
     "output_type": "execute_result"
    }
   ],
   "source": [
    "data = pd.read_csv(r\"khariar.csv\", usecols=[2])\n",
    "data"
   ]
  },
  {
   "cell_type": "code",
   "execution_count": 3,
   "metadata": {},
   "outputs": [
    {
     "data": {
      "text/html": [
       "<div>\n",
       "<style scoped>\n",
       "    .dataframe tbody tr th:only-of-type {\n",
       "        vertical-align: middle;\n",
       "    }\n",
       "\n",
       "    .dataframe tbody tr th {\n",
       "        vertical-align: top;\n",
       "    }\n",
       "\n",
       "    .dataframe thead th {\n",
       "        text-align: right;\n",
       "    }\n",
       "</style>\n",
       "<table border=\"1\" class=\"dataframe\">\n",
       "  <thead>\n",
       "    <tr style=\"text-align: right;\">\n",
       "      <th></th>\n",
       "      <th>rainfall</th>\n",
       "    </tr>\n",
       "  </thead>\n",
       "  <tbody>\n",
       "    <tr>\n",
       "      <th>1981-01-31</th>\n",
       "      <td>36.91</td>\n",
       "    </tr>\n",
       "    <tr>\n",
       "      <th>1981-02-28</th>\n",
       "      <td>5.27</td>\n",
       "    </tr>\n",
       "    <tr>\n",
       "      <th>1981-03-31</th>\n",
       "      <td>26.37</td>\n",
       "    </tr>\n",
       "    <tr>\n",
       "      <th>1981-04-30</th>\n",
       "      <td>26.37</td>\n",
       "    </tr>\n",
       "    <tr>\n",
       "      <th>1981-05-31</th>\n",
       "      <td>116.02</td>\n",
       "    </tr>\n",
       "  </tbody>\n",
       "</table>\n",
       "</div>"
      ],
      "text/plain": [
       "            rainfall\n",
       "1981-01-31     36.91\n",
       "1981-02-28      5.27\n",
       "1981-03-31     26.37\n",
       "1981-04-30     26.37\n",
       "1981-05-31    116.02"
      ]
     },
     "execution_count": 3,
     "metadata": {},
     "output_type": "execute_result"
    }
   ],
   "source": [
    "data = data.set_index(\n",
    "    pd.date_range('1981','2022', freq='M')\n",
    ")\n",
    "data.head(5)"
   ]
  },
  {
   "cell_type": "markdown",
   "metadata": {},
   "source": [
    "Load Data\n",
    "---"
   ]
  },
  {
   "cell_type": "code",
   "execution_count": 4,
   "metadata": {
    "scrolled": false
   },
   "outputs": [],
   "source": [
    "# data = pd.read_csv('new_data.csv', usecols=[1])\n",
    "# data = data.set_index(\n",
    "#     pd.date_range('1959','1989', freq='M')\n",
    "# )\n",
    "# data.head(5)"
   ]
  },
  {
   "cell_type": "markdown",
   "metadata": {},
   "source": [
    "SPI Function (self-defined)\n",
    "---"
   ]
  },
  {
   "cell_type": "code",
   "execution_count": 5,
   "metadata": {},
   "outputs": [],
   "source": [
    "#Standardized Precipitation Index Function\n",
    "def spi(ds, thresh):\n",
    "    #ds - data ; thresh - time interval / scale\n",
    "    \n",
    "    #Rolling Mean / Moving Averages\n",
    "    ds_ma = ds.rolling(thresh, center=False).mean()\n",
    "    \n",
    "    #Natural log of moving averages\n",
    "    ds_In = np.log(ds_ma)\n",
    "    ds_In[ np.isinf(ds_In) == True] = np.nan  #Change infinity to NaN\n",
    "    \n",
    "    #Overall Mean of Moving Averages\n",
    "    ds_mu = np.nanmean(ds_ma)\n",
    "    \n",
    "    #Summation of Natural log of moving averages\n",
    "    ds_sum = np.nansum(ds_In)\n",
    "        \n",
    "    #Computing essentials for gamma distribution\n",
    "    n = len(ds_In[thresh-1:])                  #size of data\n",
    "    A = np.log(ds_mu) - (ds_sum/n)             #Computing A\n",
    "    alpha = (1/(4*A))*(1+(1+((4*A)/3))**0.5)   #Computing alpha  (a)\n",
    "    beta = ds_mu/alpha                         #Computing beta (scale)\n",
    "    \n",
    "    #Gamma Distribution (CDF)\n",
    "    gamma = st.gamma.cdf(ds_ma, a=alpha, scale=beta)  \n",
    "    \n",
    "    #Standardized Precipitation Index   (Inverse of CDF)\n",
    "    norm_spi = st.norm.ppf(gamma, loc=0, scale=1)  #loc is mean and scale is standard dev.\n",
    "    \n",
    "    return ds_ma, ds_In, ds_mu, ds_sum, n, A, alpha, beta, gamma, norm_spi"
   ]
  },
  {
   "cell_type": "markdown",
   "metadata": {},
   "source": [
    "Perform SPI computation on Data at Varying Times\n",
    "---"
   ]
  },
  {
   "cell_type": "code",
   "execution_count": 6,
   "metadata": {},
   "outputs": [
    {
     "name": "stderr",
     "output_type": "stream",
     "text": [
      "C:\\Users\\asitg\\anaconda3\\lib\\site-packages\\pandas\\core\\arraylike.py:397: RuntimeWarning: divide by zero encountered in log\n",
      "  result = getattr(ufunc, method)(*inputs, **kwargs)\n",
      "C:\\Users\\asitg\\anaconda3\\lib\\site-packages\\pandas\\core\\arraylike.py:397: RuntimeWarning: divide by zero encountered in log\n",
      "  result = getattr(ufunc, method)(*inputs, **kwargs)\n"
     ]
    }
   ],
   "source": [
    "times = [1,3, 6, 9, 12, 24,48]\n",
    "for i in times:\n",
    "    x = spi(data['rainfall'], i)\n",
    "    data['spi_'+str(i)] = x[9]"
   ]
  },
  {
   "cell_type": "markdown",
   "metadata": {},
   "source": [
    "Visualization of SPI\n",
    "---"
   ]
  },
  {
   "cell_type": "code",
   "execution_count": 7,
   "metadata": {},
   "outputs": [
    {
     "data": {
      "image/png": "[encoded data removed]",
      "text/plain": [
       "<Figure size 1500x1000 with 7 Axes>"
      ]
     },
     "metadata": {},
     "output_type": "display_data"
    }
   ],
   "source": [
    "fig, axes = plt.subplots(nrows=7, figsize=(15, 10))\n",
    "plt.subplots_adjust(hspace=0.15)\n",
    "for i, ax in enumerate(axes):\n",
    "    col_scheme=np.where(data['spi_'+str(times[i])]>0, 'b','r')\n",
    "\n",
    "    ax.xaxis.set_major_formatter(mdates.DateFormatter('%Y'))\n",
    "    ax.bar(data.index, data['spi_'+str(times[i])], width=25, align='center', color=col_scheme, label='SPI '+str(times[i]))\n",
    "    ax.axhline(y=0, color='k')\n",
    "    ax.xaxis.set_major_locator(mdates.YearLocator(2))\n",
    "    ax.legend(loc='upper right')\n",
    "    ax.set_yticks(range(-3,4), range(-3,4))\n",
    "    ax.set_ylabel('SPI', fontsize=12)\n",
    "    \n",
    "    if i<len(times)-1:\n",
    "        ax.set_xticks([],[])"
   ]
  },
  {
   "cell_type": "code",
   "execution_count": 8,
   "metadata": {},
   "outputs": [
    {
     "data": {
      "text/html": [
       "<div>\n",
       "<style scoped>\n",
       "    .dataframe tbody tr th:only-of-type {\n",
       "        vertical-align: middle;\n",
       "    }\n",
       "\n",
       "    .dataframe tbody tr th {\n",
       "        vertical-align: top;\n",
       "    }\n",
       "\n",
       "    .dataframe thead th {\n",
       "        text-align: right;\n",
       "    }\n",
       "</style>\n",
       "<table border=\"1\" class=\"dataframe\">\n",
       "  <thead>\n",
       "    <tr style=\"text-align: right;\">\n",
       "      <th></th>\n",
       "      <th>rainfall</th>\n",
       "      <th>spi_1</th>\n",
       "      <th>spi_3</th>\n",
       "      <th>spi_6</th>\n",
       "      <th>spi_9</th>\n",
       "      <th>spi_12</th>\n",
       "      <th>spi_24</th>\n",
       "      <th>spi_48</th>\n",
       "    </tr>\n",
       "  </thead>\n",
       "  <tbody>\n",
       "    <tr>\n",
       "      <th>1981-01-31</th>\n",
       "      <td>36.91</td>\n",
       "      <td>-0.098677</td>\n",
       "      <td>NaN</td>\n",
       "      <td>NaN</td>\n",
       "      <td>NaN</td>\n",
       "      <td>NaN</td>\n",
       "      <td>NaN</td>\n",
       "      <td>NaN</td>\n",
       "    </tr>\n",
       "    <tr>\n",
       "      <th>1981-02-28</th>\n",
       "      <td>5.27</td>\n",
       "      <td>-0.860330</td>\n",
       "      <td>NaN</td>\n",
       "      <td>NaN</td>\n",
       "      <td>NaN</td>\n",
       "      <td>NaN</td>\n",
       "      <td>NaN</td>\n",
       "      <td>NaN</td>\n",
       "    </tr>\n",
       "    <tr>\n",
       "      <th>1981-03-31</th>\n",
       "      <td>26.37</td>\n",
       "      <td>-0.254117</td>\n",
       "      <td>-0.349032</td>\n",
       "      <td>NaN</td>\n",
       "      <td>NaN</td>\n",
       "      <td>NaN</td>\n",
       "      <td>NaN</td>\n",
       "      <td>NaN</td>\n",
       "    </tr>\n",
       "    <tr>\n",
       "      <th>1981-04-30</th>\n",
       "      <td>26.37</td>\n",
       "      <td>-0.254117</td>\n",
       "      <td>-0.421008</td>\n",
       "      <td>NaN</td>\n",
       "      <td>NaN</td>\n",
       "      <td>NaN</td>\n",
       "      <td>NaN</td>\n",
       "      <td>NaN</td>\n",
       "    </tr>\n",
       "    <tr>\n",
       "      <th>1981-05-31</th>\n",
       "      <td>116.02</td>\n",
       "      <td>0.551637</td>\n",
       "      <td>0.094060</td>\n",
       "      <td>NaN</td>\n",
       "      <td>NaN</td>\n",
       "      <td>NaN</td>\n",
       "      <td>NaN</td>\n",
       "      <td>NaN</td>\n",
       "    </tr>\n",
       "    <tr>\n",
       "      <th>...</th>\n",
       "      <td>...</td>\n",
       "      <td>...</td>\n",
       "      <td>...</td>\n",
       "      <td>...</td>\n",
       "      <td>...</td>\n",
       "      <td>...</td>\n",
       "      <td>...</td>\n",
       "      <td>...</td>\n",
       "    </tr>\n",
       "    <tr>\n",
       "      <th>2021-08-31</th>\n",
       "      <td>200.22</td>\n",
       "      <td>0.954592</td>\n",
       "      <td>1.253272</td>\n",
       "      <td>0.781117</td>\n",
       "      <td>0.182929</td>\n",
       "      <td>-0.143392</td>\n",
       "      <td>1.074013</td>\n",
       "      <td>0.840625</td>\n",
       "    </tr>\n",
       "    <tr>\n",
       "      <th>2021-09-30</th>\n",
       "      <td>330.78</td>\n",
       "      <td>1.402750</td>\n",
       "      <td>1.373676</td>\n",
       "      <td>1.176952</td>\n",
       "      <td>0.847009</td>\n",
       "      <td>0.419545</td>\n",
       "      <td>0.873854</td>\n",
       "      <td>1.008699</td>\n",
       "    </tr>\n",
       "    <tr>\n",
       "      <th>2021-10-31</th>\n",
       "      <td>21.12</td>\n",
       "      <td>-0.350124</td>\n",
       "      <td>0.884226</td>\n",
       "      <td>1.188552</td>\n",
       "      <td>0.885430</td>\n",
       "      <td>0.272565</td>\n",
       "      <td>0.728832</td>\n",
       "      <td>0.920273</td>\n",
       "    </tr>\n",
       "    <tr>\n",
       "      <th>2021-11-30</th>\n",
       "      <td>35.56</td>\n",
       "      <td>-0.116547</td>\n",
       "      <td>0.615477</td>\n",
       "      <td>1.108924</td>\n",
       "      <td>0.939842</td>\n",
       "      <td>0.378471</td>\n",
       "      <td>0.804370</td>\n",
       "      <td>0.970060</td>\n",
       "    </tr>\n",
       "    <tr>\n",
       "      <th>2021-12-31</th>\n",
       "      <td>68.99</td>\n",
       "      <td>0.229447</td>\n",
       "      <td>-0.062399</td>\n",
       "      <td>0.932777</td>\n",
       "      <td>1.060886</td>\n",
       "      <td>0.613958</td>\n",
       "      <td>0.949173</td>\n",
       "      <td>1.066065</td>\n",
       "    </tr>\n",
       "  </tbody>\n",
       "</table>\n",
       "<p>492 rows × 8 columns</p>\n",
       "</div>"
      ],
      "text/plain": [
       "            rainfall     spi_1     spi_3     spi_6     spi_9    spi_12  \\\n",
       "1981-01-31     36.91 -0.098677       NaN       NaN       NaN       NaN   \n",
       "1981-02-28      5.27 -0.860330       NaN       NaN       NaN       NaN   \n",
       "1981-03-31     26.37 -0.254117 -0.349032       NaN       NaN       NaN   \n",
       "1981-04-30     26.37 -0.254117 -0.421008       NaN       NaN       NaN   \n",
       "1981-05-31    116.02  0.551637  0.094060       NaN       NaN       NaN   \n",
       "...              ...       ...       ...       ...       ...       ...   \n",
       "2021-08-31    200.22  0.954592  1.253272  0.781117  0.182929 -0.143392   \n",
       "2021-09-30    330.78  1.402750  1.373676  1.176952  0.847009  0.419545   \n",
       "2021-10-31     21.12 -0.350124  0.884226  1.188552  0.885430  0.272565   \n",
       "2021-11-30     35.56 -0.116547  0.615477  1.108924  0.939842  0.378471   \n",
       "2021-12-31     68.99  0.229447 -0.062399  0.932777  1.060886  0.613958   \n",
       "\n",
       "              spi_24    spi_48  \n",
       "1981-01-31       NaN       NaN  \n",
       "1981-02-28       NaN       NaN  \n",
       "1981-03-31       NaN       NaN  \n",
       "1981-04-30       NaN       NaN  \n",
       "1981-05-31       NaN       NaN  \n",
       "...              ...       ...  \n",
       "2021-08-31  1.074013  0.840625  \n",
       "2021-09-30  0.873854  1.008699  \n",
       "2021-10-31  0.728832  0.920273  \n",
       "2021-11-30  0.804370  0.970060  \n",
       "2021-12-31  0.949173  1.066065  \n",
       "\n",
       "[492 rows x 8 columns]"
      ]
     },
     "execution_count": 8,
     "metadata": {},
     "output_type": "execute_result"
    }
   ],
   "source": [
    "data"
   ]
  },
  {
   "cell_type": "code",
   "execution_count": 9,
   "metadata": {},
   "outputs": [
    {
     "data": {
      "text/plain": [
       "rainfall     0\n",
       "spi_1        0\n",
       "spi_3        2\n",
       "spi_6        5\n",
       "spi_9        8\n",
       "spi_12      11\n",
       "spi_24      23\n",
       "spi_48      47\n",
       "dtype: int64"
      ]
     },
     "execution_count": 9,
     "metadata": {},
     "output_type": "execute_result"
    }
   ],
   "source": [
    "data.isnull().sum()"
   ]
  },
  {
   "cell_type": "code",
   "execution_count": 10,
   "metadata": {},
   "outputs": [],
   "source": [
    "data.to_csv('rainfall_Khariar.csv', sep=',', index=False, encoding='utf-8')"
   ]
  },
  {
   "cell_type": "code",
   "execution_count": null,
   "metadata": {},
   "outputs": [],
   "source": []
  }
 ],
 "metadata": {
  "kernelspec": {
   "display_name": "Python 3 (ipykernel)",
   "language": "python",
   "name": "python3"
  },
  "language_info": {
   "codemirror_mode": {
    "name": "ipython",
    "version": 3
   },
   "file_extension": ".py",
   "mimetype": "text/x-python",
   "name": "python",
   "nbconvert_exporter": "python",
   "pygments_lexer": "ipython3",
   "version": "3.9.13"
  }
 },
 "nbformat": 4,
 "nbformat_minor": 2
}
